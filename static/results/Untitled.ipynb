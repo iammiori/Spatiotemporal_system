{
 "cells": [
  {
   "cell_type": "code",
   "execution_count": 1,
   "metadata": {},
   "outputs": [],
   "source": [
    "import numpy as np"
   ]
  },
  {
   "cell_type": "code",
   "execution_count": 19,
   "metadata": {},
   "outputs": [],
   "source": [
    "data = np.load('np_pred.npy')"
   ]
  },
  {
   "cell_type": "code",
   "execution_count": 27,
   "metadata": {},
   "outputs": [
    {
     "data": {
      "text/plain": [
       "array([[ 5.9228854, 10.272971 ,  4.4664702, ...,  5.997259 ,  6.1381116,\n",
       "         6.0366173],\n",
       "       [ 5.374395 ,  7.7921453,  4.4225616, ...,  5.3883295,  5.58727  ,\n",
       "         5.3898396],\n",
       "       [ 4.9307427, 12.683672 ,  4.3999276, ...,  5.026502 ,  5.0582333,\n",
       "         4.8884935],\n",
       "       ...,\n",
       "       [ 4.6753798,  9.279388 ,  4.461059 , ...,  4.3110495,  4.1845427,\n",
       "         4.178996 ],\n",
       "       [ 4.6054697,  7.1026874,  4.4139934, ...,  4.761072 ,  4.257115 ,\n",
       "         4.2487254],\n",
       "       [ 6.0582123, 20.479744 ,  4.3832955, ...,  5.30801  ,  5.5761857,\n",
       "         5.0723968]], dtype=float32)"
      ]
     },
     "execution_count": 27,
     "metadata": {},
     "output_type": "execute_result"
    }
   ],
   "source": [
    "data"
   ]
  },
  {
   "cell_type": "code",
   "execution_count": 32,
   "metadata": {},
   "outputs": [
    {
     "name": "stdout",
     "output_type": "stream",
     "text": [
      "q1: 6.574361085891724, q2 : 9.224620819091797, q3:13.005326986312866 min:4.167662882804871 max:24.878860855102538\n"
     ]
    }
   ],
   "source": [
    "cnt=0\n",
    "for i in data:\n",
    "    if cnt==0:\n",
    "        q1=np.percentile(i,25)\n",
    "        median=np.percentile(i,50)\n",
    "        q3=np.percentile(i,75)\n",
    "        d_min = np.percentile(i,1)\n",
    "        d_max = np.percentile(i,99)\n",
    "print(\"q1: {}, q2 : {}, q3:{} min:{} max:{}\".format(q1,median,q3,d_min,d_max))"
   ]
  },
  {
   "cell_type": "code",
   "execution_count": null,
   "metadata": {},
   "outputs": [],
   "source": []
  }
 ],
 "metadata": {
  "kernelspec": {
   "display_name": "Python 3",
   "language": "python",
   "name": "python3"
  },
  "language_info": {
   "codemirror_mode": {
    "name": "ipython",
    "version": 3
   },
   "file_extension": ".py",
   "mimetype": "text/x-python",
   "name": "python",
   "nbconvert_exporter": "python",
   "pygments_lexer": "ipython3",
   "version": "3.7.3"
  }
 },
 "nbformat": 4,
 "nbformat_minor": 4
}
